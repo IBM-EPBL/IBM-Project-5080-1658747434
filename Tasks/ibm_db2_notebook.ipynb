{
 "cells": [
  {
   "cell_type": "markdown",
   "id": "3974ad14",
   "metadata": {},
   "source": [
    "Importing IBM database"
   ]
  },
  {
   "cell_type": "code",
   "execution_count": 1,
   "id": "93b87ffa",
   "metadata": {},
   "outputs": [],
   "source": [
    "import ibm_db"
   ]
  },
  {
   "cell_type": "markdown",
   "id": "01eb1415",
   "metadata": {},
   "source": [
    "Initializiing the values of the databse"
   ]
  },
  {
   "cell_type": "code",
   "execution_count": 2,
   "id": "9f6fa30a",
   "metadata": {},
   "outputs": [
    {
     "name": "stdout",
     "output_type": "stream",
     "text": [
      "<ibm_db.IBM_DBConnection object at 0x000001AAC007E8F0>\n",
      "Connection Successful\n"
     ]
    }
   ],
   "source": [
    "# dsn_hostname = \"b0aebb68-94fa-46ec-a1fc-1c999edb6187.c3n41cmd0nqnrk39u98g.databases.appdomain.cloud\"\n",
    "# dsn_uid = \"gcn28434\"\n",
    "# dsn_pwd = \"jjXTxanatTQvE11F\"\n",
    "# dsn_driver = \"{IBM DB2 ODBC DRIVER}\"\n",
    "# dsn_database = \"bludb\"\n",
    "# dsn_port = \"31249\"\n",
    "# dsn_protocol = \"TCPIP\"\n",
    "\n",
    "conn = ibm_db.connect(\"DATABASE=bludb;HOSTNAME=8e359033-a1c9-4643-82ef-8ac06f5107eb.bs2io90l08kqb1od8lcg.databases.appdomain.cloud;PORT=30120;SECURITY=SSL;SSLServerCertificate=DigiCertGlobalRootCA.crt;UID=vrk69034;PWD=sHi69YPZ3KjFmkuD\",'','')\n",
    "print(conn)\n",
    "print(\"Connection Successful\")"
   ]
  },
  {
   "cell_type": "markdown",
   "id": "617488a4",
   "metadata": {},
   "source": [
    "Initializing configuration"
   ]
  },
  {
   "cell_type": "code",
   "execution_count": 3,
   "id": "f2b29ee1",
   "metadata": {},
   "outputs": [],
   "source": [
    "import ibm_boto3\n",
    "from ibm_botocore.client import Config, ClientError\n",
    "\n",
    "# Constants for IBM COS values\n",
    "COS_ENDPOINT = \"https://control.cloud-object-storage.cloud.ibm.com/v2/endpoints\" # Current list avaiable at https://control.cloud-object-storage.cloud.ibm.com/v2/endpoints\n",
    "COS_API_KEY_ID = \"OXFtQiq3DXAYPoAeug9Sy6xKv_6EtnxvV9A1Sw9OF-eT\" # eg \"W00YixxxxxxxxxxMB-odB-2ySfTrFBIQQWanc--P3byk\"\n",
    "COS_INSTANCE_CRN = \"crn:v1:bluemix:public:cloud-object-storage:global:a/aae2d6e4cb8b434781d4640a06b81495:f85d7d56-3a8a-466c-bc6e-a46fafde85fd::\" # eg \"crn:v1:bluemix:public:cloud-object-storage:global:a/3bf0d9003xxxxxxxxxx1c3e97696b71c:d6f04d83-6c4f-4a62-a165-696756d63903::\"\n",
    "\n",
    "# Create resource\n",
    "cos = ibm_boto3.resource(\"s3\",\n",
    "    ibm_api_key_id=COS_API_KEY_ID,\n",
    "    ibm_service_instance_id=COS_INSTANCE_CRN,\n",
    "    config=Config(signature_version=\"oauth\"),\n",
    "    endpoint_url=COS_ENDPOINT\n",
    ")"
   ]
  },
  {
   "cell_type": "markdown",
   "id": "29acd118",
   "metadata": {},
   "source": [
    "Creating a new bucket"
   ]
  },
  {
   "cell_type": "code",
   "execution_count": 4,
   "id": "557fda14",
   "metadata": {},
   "outputs": [],
   "source": [
    "def create_bucket(bucket_name):\n",
    "    print(\"Creating new bucket: {0}\".format(bucket_name))\n",
    "    try:\n",
    "        cos.Bucket(bucket_name).create(\n",
    "            CreateBucketConfiguration={\n",
    "                \"LocationConstraint\":COS_BUCKET_LOCATION\n",
    "            }\n",
    "        )\n",
    "        print(\"Bucket: {0} created!\".format(bucket_name))\n",
    "    except ClientError as be:\n",
    "        print(\"CLIENT ERROR: {0}\\n\".format(be))\n",
    "    except Exception as e:\n",
    "        print(\"Unable to create bucket: {0}\".format(e))"
   ]
  },
  {
   "cell_type": "markdown",
   "id": "6898866f",
   "metadata": {},
   "source": [
    "Creating a new text file"
   ]
  },
  {
   "cell_type": "code",
   "execution_count": 5,
   "id": "433cfbed",
   "metadata": {},
   "outputs": [],
   "source": [
    "def create_text_file(bucket_name, item_name, file_text):\n",
    "    print(\"Creating new item: {0}\".format(item_name))\n",
    "    try:\n",
    "        cos.Object(bucket_name, item_name).put(\n",
    "            Body=file_text\n",
    "        )\n",
    "        print(\"Item: {0} created!\".format(item_name))\n",
    "    except ClientError as be:\n",
    "        print(\"CLIENT ERROR: {0}\\n\".format(be))\n",
    "    except Exception as e:\n",
    "        print(\"Unable to create text file: {0}\".format(e))"
   ]
  },
  {
   "cell_type": "markdown",
   "id": "46f7992c",
   "metadata": {},
   "source": [
    "List available buckets"
   ]
  },
  {
   "cell_type": "code",
   "execution_count": 6,
   "id": "00cf73d4",
   "metadata": {},
   "outputs": [],
   "source": [
    "def get_buckets():\n",
    "    print(\"Retrieving list of buckets\")\n",
    "    try:\n",
    "        buckets = cos.buckets.all()\n",
    "        for bucket in buckets:\n",
    "            print(\"Bucket Name: {0}\".format(bucket.name))\n",
    "    except ClientError as be:\n",
    "        print(\"CLIENT ERROR: {0}\\n\".format(be))\n",
    "    except Exception as e:\n",
    "        print(\"Unable to retrieve list buckets: {0}\".format(e))"
   ]
  },
  {
   "cell_type": "markdown",
   "id": "bef18b03",
   "metadata": {},
   "source": [
    "List items in bucket"
   ]
  },
  {
   "cell_type": "code",
   "execution_count": 7,
   "id": "7fe42f10",
   "metadata": {},
   "outputs": [],
   "source": [
    "def get_bucket_contents(bucket_name):\n",
    "    print(\"Retrieving bucket contents from: {0}\".format(bucket_name))\n",
    "    try:\n",
    "        files = cos.Bucket(bucket_name).objects.all()\n",
    "        for file in files:\n",
    "            print(\"Item: {0} ({1} bytes).\".format(file.key, file.size))\n",
    "    except ClientError as be:\n",
    "        print(\"CLIENT ERROR: {0}\\n\".format(be))\n",
    "    except Exception as e:\n",
    "        print(\"Unable to retrieve bucket contents: {0}\".format(e))"
   ]
  },
  {
   "cell_type": "markdown",
   "id": "42f61486",
   "metadata": {},
   "source": [
    "Get file contents of particular item"
   ]
  },
  {
   "cell_type": "code",
   "execution_count": 8,
   "id": "989a6f01",
   "metadata": {},
   "outputs": [],
   "source": [
    "def get_item(bucket_name, item_name):\n",
    "    print(\"Retrieving item from bucket: {0}, key: {1}\".format(bucket_name, item_name))\n",
    "    try:\n",
    "        file = cos.Object(bucket_name, item_name).get()\n",
    "        print(\"File Contents: {0}\".format(file[\"Body\"].read()))\n",
    "    except ClientError as be:\n",
    "        print(\"CLIENT ERROR: {0}\\n\".format(be))\n",
    "    except Exception as e:\n",
    "        print(\"Unable to retrieve file contents: {0}\".format(e))"
   ]
  },
  {
   "cell_type": "markdown",
   "id": "16d6b06a",
   "metadata": {},
   "source": [
    "Delete an item from a bucket"
   ]
  },
  {
   "cell_type": "code",
   "execution_count": 9,
   "id": "68792c8e",
   "metadata": {},
   "outputs": [],
   "source": [
    "def delete_item(bucket_name, object_name):\n",
    "    try:\n",
    "        cos.delete_object(Bucket=bucket_name, Key=object_name)\n",
    "        print(\"Item: {0} deleted!\\n\".format(object_name))\n",
    "    except ClientError as be:\n",
    "        print(\"CLIENT ERROR: {0}\\n\".format(be))\n",
    "    except Exception as e:\n",
    "        print(\"Unable to delete object: {0}\".format(e))"
   ]
  },
  {
   "cell_type": "markdown",
   "id": "eb999d77",
   "metadata": {},
   "source": [
    "Delete multiple items from a bucket"
   ]
  },
  {
   "cell_type": "code",
   "execution_count": 11,
   "id": "1de9f0de",
   "metadata": {},
   "outputs": [],
   "source": [
    "def delete_items(bucket_name):\n",
    "    try:\n",
    "        delete_request = {\n",
    "            \"Objects\": [\n",
    "                { \"Key\": \"deletetest/testfile1.txt\" },\n",
    "                { \"Key\": \"deletetest/testfile2.txt\" },\n",
    "                { \"Key\": \"deletetest/testfile3.txt\" },\n",
    "                { \"Key\": \"deletetest/testfile4.txt\" },\n",
    "                { \"Key\": \"deletetest/testfile5.txt\" }\n",
    "            ]\n",
    "        }\n",
    "\n",
    "        response = cos.delete_objects(\n",
    "            Bucket=bucket_name,\n",
    "            Delete=delete_request\n",
    "        )\n",
    "\n",
    "        print(\"Deleted items for {0}\\n\".format(bucket_name))\n",
    "        print(json.dumps(response.get(\"Deleted\"), indent=4))\n",
    "    except ClientError as be:\n",
    "        print(\"CLIENT ERROR: {0}\\n\".format(be))\n",
    "    except Exception as e:\n",
    "        print(\"Unable to copy item: {0}\".format(e))"
   ]
  },
  {
   "cell_type": "markdown",
   "id": "2e092323",
   "metadata": {},
   "source": [
    "Delete a bucket"
   ]
  },
  {
   "cell_type": "code",
   "execution_count": 12,
   "id": "6573eb3e",
   "metadata": {},
   "outputs": [],
   "source": [
    "def delete_bucket(bucket_name):\n",
    "    print(\"Deleting bucket: {0}\".format(bucket_name))\n",
    "    try:\n",
    "        cos.Bucket(bucket_name).delete()\n",
    "        print(\"Bucket: {0} deleted!\".format(bucket_name))\n",
    "    except ClientError as be:\n",
    "        print(\"CLIENT ERROR: {0}\\n\".format(be))\n",
    "    except Exception as e:\n",
    "        print(\"Unable to delete bucket: {0}\".format(e))"
   ]
  },
  {
   "cell_type": "code",
   "execution_count": null,
   "id": "492f755c",
   "metadata": {},
   "outputs": [],
   "source": [
    "Run a multi-part upload"
   ]
  },
  {
   "cell_type": "code",
   "execution_count": 13,
   "id": "be42e265",
   "metadata": {},
   "outputs": [],
   "source": [
    "def multi_part_upload(bucket_name, item_name, file_path):\n",
    "    try:\n",
    "        print(\"Starting file transfer for {0} to bucket: {1}\\n\".format(item_name, bucket_name))\n",
    "        # set 5 MB chunks\n",
    "        part_size = 1024 * 1024 * 5\n",
    "\n",
    "        # set threadhold to 15 MB\n",
    "        file_threshold = 1024 * 1024 * 15\n",
    "\n",
    "        # set the transfer threshold and chunk size\n",
    "        transfer_config = ibm_boto3.s3.transfer.TransferConfig(\n",
    "            multipart_threshold=file_threshold,\n",
    "            multipart_chunksize=part_size\n",
    "        )\n",
    "\n",
    "        # the upload_fileobj method will automatically execute a multi-part upload\n",
    "        # in 5 MB chunks for all files over 15 MB\n",
    "        with open(file_path, \"rb\") as file_data:\n",
    "            cos.Object(bucket_name, item_name).upload_fileobj(\n",
    "                Fileobj=file_data,\n",
    "                Config=transfer_config\n",
    "            )\n",
    "\n",
    "        print(\"Transfer for {0} Complete!\\n\".format(item_name))\n",
    "    except ClientError as be:\n",
    "        print(\"CLIENT ERROR: {0}\\n\".format(be))\n",
    "    except Exception as e:\n",
    "        print(\"Unable to complete multi-part upload: {0}\".format(e))"
   ]
  },
  {
   "cell_type": "markdown",
   "id": "86e57b98",
   "metadata": {},
   "source": [
    "Manually run a multi-part upload"
   ]
  },
  {
   "cell_type": "code",
   "execution_count": 14,
   "id": "70ed6f44",
   "metadata": {},
   "outputs": [],
   "source": [
    "def multi_part_upload_manual(bucket_name, item_name, file_path):\n",
    "    try:\n",
    "        # create client object\n",
    "        cos_cli = ibm_boto3.client(\"s3\",\n",
    "            ibm_api_key_id=COS_API_KEY_ID,\n",
    "            ibm_service_instance_id=COS_SERVICE_CRN,\n",
    "            config=Config(signature_version=\"oauth\"),\n",
    "            endpoint_url=COS_ENDPOINT\n",
    "        )\n",
    "\n",
    "        print(\"Starting multi-part upload for {0} to bucket: {1}\\n\".format(item_name, bucket_name))\n",
    "\n",
    "        # initiate the multi-part upload\n",
    "        mp = cos_cli.create_multipart_upload(\n",
    "            Bucket=bucket_name,\n",
    "            Key=item_name\n",
    "        )\n",
    "\n",
    "        upload_id = mp[\"UploadId\"]\n",
    "\n",
    "        # min 20MB part size\n",
    "        part_size = 1024 * 1024 * 20\n",
    "        file_size = os.stat(file_path).st_size\n",
    "        part_count = int(math.ceil(file_size / float(part_size)))\n",
    "        data_packs = []\n",
    "        position = 0\n",
    "        part_num = 0\n",
    "\n",
    "        # begin uploading the parts\n",
    "        with open(file_path, \"rb\") as file:\n",
    "            for i in range(part_count):\n",
    "                part_num = i + 1\n",
    "                part_size = min(part_size, (file_size - position))\n",
    "\n",
    "                print(\"Uploading to {0} (part {1} of {2})\".format(item_name, part_num, part_count))\n",
    "\n",
    "                file_data = file.read(part_size)\n",
    "\n",
    "                mp_part = cos_cli.upload_part(\n",
    "                    Bucket=bucket_name,\n",
    "                    Key=item_name,\n",
    "                    PartNumber=part_num,\n",
    "                    Body=file_data,\n",
    "                    ContentLength=part_size,\n",
    "                    UploadId=upload_id\n",
    "                )\n",
    "\n",
    "                data_packs.append({\n",
    "                    \"ETag\":mp_part[\"ETag\"],\n",
    "                    \"PartNumber\":part_num\n",
    "                })\n",
    "\n",
    "                position += part_size\n",
    "\n",
    "        # complete upload\n",
    "        cos_cli.complete_multipart_upload(\n",
    "            Bucket=bucket_name,\n",
    "            Key=item_name,\n",
    "            UploadId=upload_id,\n",
    "            MultipartUpload={\n",
    "                \"Parts\": data_packs\n",
    "            }\n",
    "        )\n",
    "        print(\"Upload for {0} Complete!\\n\".format(item_name))\n",
    "    except ClientError as be:\n",
    "        # abort the upload\n",
    "        cos_cli.abort_multipart_upload(\n",
    "            Bucket=bucket_name,\n",
    "            Key=item_name,\n",
    "            UploadId=upload_id\n",
    "        )\n",
    "        print(\"Multi-part upload aborted for {0}\\n\".format(item_name))\n",
    "        print(\"CLIENT ERROR: {0}\\n\".format(be))\n",
    "    except Exception as e:\n",
    "        print(\"Unable to complete multi-part upload: {0}\".format(e))"
   ]
  },
  {
   "cell_type": "markdown",
   "id": "84a750b5",
   "metadata": {},
   "source": [
    "Large Object Upload by using TransferManager"
   ]
  },
  {
   "cell_type": "code",
   "execution_count": 15,
   "id": "c5ced902",
   "metadata": {},
   "outputs": [],
   "source": [
    "def upload_large_file(bucket_name, item_name, file_path):\n",
    "    print(\"Starting large file upload for {0} to bucket: {1}\".format(item_name, bucket_name))\n",
    "\n",
    "    # set the chunk size to 5 MB\n",
    "    part_size = 1024 * 1024 * 5\n",
    "\n",
    "    # set threadhold to 5 MB\n",
    "    file_threshold = 1024 * 1024 * 5\n",
    "\n",
    "    # Create client connection\n",
    "    cos_cli = ibm_boto3.client(\"s3\",\n",
    "        ibm_api_key_id=COS_API_KEY_ID,\n",
    "        ibm_service_instance_id=COS_SERVICE_CRN,\n",
    "        config=Config(signature_version=\"oauth\"),\n",
    "        endpoint_url=COS_ENDPOINT\n",
    "    )\n",
    "\n",
    "    # set the transfer threshold and chunk size in config settings\n",
    "    transfer_config = ibm_boto3.s3.transfer.TransferConfig(\n",
    "        multipart_threshold=file_threshold,\n",
    "        multipart_chunksize=part_size\n",
    "    )\n",
    "\n",
    "    # create transfer manager\n",
    "    transfer_mgr = ibm_boto3.s3.transfer.TransferManager(cos_cli, config=transfer_config)\n",
    "\n",
    "    try:\n",
    "        # initiate file upload\n",
    "        future = transfer_mgr.upload(file_path, bucket_name, item_name)\n",
    "\n",
    "        # wait for upload to complete\n",
    "        future.result()\n",
    "\n",
    "        print (\"Large file upload complete!\")\n",
    "    except Exception as e:\n",
    "        print(\"Unable to complete large file upload: {0}\".format(e))\n",
    "    finally:\n",
    "        transfer_mgr.shutdown()"
   ]
  },
  {
   "cell_type": "markdown",
   "id": "3256721a",
   "metadata": {},
   "source": [
    "List items in a bucket (v2)"
   ]
  },
  {
   "cell_type": "code",
   "execution_count": 16,
   "id": "cb949801",
   "metadata": {},
   "outputs": [],
   "source": [
    "def get_bucket_contents_v2(bucket_name, max_keys):\n",
    "    print(\"Retrieving bucket contents from: {0}\".format(bucket_name))\n",
    "    try:\n",
    "        # create client object\n",
    "        cos_cli = ibm_boto3.client(\"s3\",\n",
    "            ibm_api_key_id=COS_API_KEY_ID,\n",
    "            ibm_service_instance_id=COS_SERVICE_CRN,\n",
    "            config=Config(signature_version=\"oauth\"),\n",
    "            endpoint_url=COS_ENDPOINT)\n",
    "\n",
    "        more_results = True\n",
    "        next_token = \"\"\n",
    "\n",
    "        while (more_results):\n",
    "            response = cos_cli.list_objects_v2(Bucket=bucket_name, MaxKeys=max_keys, ContinuationToken=next_token)\n",
    "            files = response[\"Contents\"]\n",
    "            for file in files:\n",
    "                print(\"Item: {0} ({1} bytes).\".format(file[\"Key\"], file[\"Size\"]))\n",
    "\n",
    "            if (response[\"IsTruncated\"]):\n",
    "                next_token = response[\"NextContinuationToken\"]\n",
    "                print(\"...More results in next batch!\\n\")\n",
    "            else:\n",
    "                more_results = False\n",
    "                next_token = \"\"\n",
    "\n",
    "    except ClientError as be:\n",
    "        print(\"CLIENT ERROR: {0}\\n\".format(be))\n",
    "    except Exception as e:\n",
    "        print(\"Unable to retrieve bucket contents: {0}\".format(e))"
   ]
  },
  {
   "cell_type": "markdown",
   "id": "95dee366",
   "metadata": {},
   "source": [
    "Creating a bucket with key-protect enabled"
   ]
  },
  {
   "cell_type": "code",
   "execution_count": 17,
   "id": "437562d1",
   "metadata": {},
   "outputs": [],
   "source": [
    "COS_KP_ALGORITHM = \"<algorithm>\"\n",
    "COS_KP_ROOTKEY_CRN = \"<root-key-crn>\"\n",
    "\n",
    "# Create a new bucket with key protect (encryption)\n",
    "def create_bucket_kp(bucket_name):\n",
    "    print(\"Creating new encrypted bucket: {0}\".format(bucket_name))\n",
    "    try:\n",
    "        cos.Bucket(bucket_name).create(\n",
    "            CreateBucketConfiguration={\n",
    "                \"LocationConstraint\":COS_BUCKET_LOCATION\n",
    "            },\n",
    "            IBMSSEKPEncryptionAlgorithm=COS_KP_ALGORITHM,\n",
    "            IBMSSEKPCustomerRootKeyCrn=COS_KP_ROOTKEY_CRN\n",
    "        )\n",
    "        print(\"Encrypted Bucket: {0} created!\".format(bucket_name))\n",
    "    except ClientError as be:\n",
    "        print(\"CLIENT ERROR: {0}\\n\".format(be))\n",
    "    except Exception as e:\n",
    "        print(\"Unable to create encrypted bucket: {0}\".format(e))"
   ]
  },
  {
   "cell_type": "code",
   "execution_count": 25,
   "id": "37715eae",
   "metadata": {},
   "outputs": [
    {
     "ename": "ImportError",
     "evalue": "Aspera SDK not installed",
     "output_type": "error",
     "traceback": [
      "\u001b[1;31m---------------------------------------------------------------------------\u001b[0m",
      "\u001b[1;31mModuleNotFoundError\u001b[0m                       Traceback (most recent call last)",
      "File \u001b[1;32mc:\\Users\\Mouli Sankar\\AppData\\Local\\Programs\\Python\\Python310\\lib\\site-packages\\ibm_s3transfer\\aspera\\futures.py:27\u001b[0m\n\u001b[0;32m     26\u001b[0m \u001b[39mtry\u001b[39;00m:\n\u001b[1;32m---> 27\u001b[0m     \u001b[39mfrom\u001b[39;00m \u001b[39mcos_aspera\u001b[39;00m \u001b[39mimport\u001b[39;00m faspmanager2\n\u001b[0;32m     28\u001b[0m     warnings\u001b[39m.\u001b[39mwarn(\u001b[39m\"\u001b[39m\u001b[39mUsing Aspera through the COS SDK is deprecated. Refer to the project readme: https://github.com/IBM/ibm-cos-sdk-python\u001b[39m\u001b[39m\"\u001b[39m)\n",
      "\u001b[1;31mModuleNotFoundError\u001b[0m: No module named 'cos_aspera'",
      "\nDuring handling of the above exception, another exception occurred:\n",
      "\u001b[1;31mImportError\u001b[0m                               Traceback (most recent call last)",
      "Cell \u001b[1;32mIn [25], line 4\u001b[0m\n\u001b[0;32m      2\u001b[0m \u001b[39mimport\u001b[39;00m \u001b[39mibm_boto3\u001b[39;00m\n\u001b[0;32m      3\u001b[0m \u001b[39mfrom\u001b[39;00m \u001b[39mibm_botocore\u001b[39;00m\u001b[39m.\u001b[39;00m\u001b[39mclient\u001b[39;00m \u001b[39mimport\u001b[39;00m Config\n\u001b[1;32m----> 4\u001b[0m \u001b[39mfrom\u001b[39;00m \u001b[39mibm_s3transfer\u001b[39;00m\u001b[39m.\u001b[39;00m\u001b[39maspera\u001b[39;00m\u001b[39m.\u001b[39;00m\u001b[39mmanager\u001b[39;00m \u001b[39mimport\u001b[39;00m AsperaTransferManager\n\u001b[0;32m      5\u001b[0m \u001b[39m# from ibm_s3transfer.manager import TransferCoordinatorController\u001b[39;00m\n\u001b[0;32m      7\u001b[0m COS_ENDPOINT \u001b[39m=\u001b[39m \u001b[39m\"\u001b[39m\u001b[39mhttps://control.cloud-object-storage.cloud.ibm.com/v2/endpoints\u001b[39m\u001b[39m\"\u001b[39m \u001b[39m# Current list avaiable at https://control.cloud-object-storage.cloud.ibm.com/v2/endpoints\u001b[39;00m\n",
      "File \u001b[1;32mc:\\Users\\Mouli Sankar\\AppData\\Local\\Programs\\Python\\Python310\\lib\\site-packages\\ibm_s3transfer\\aspera\\manager.py:36\u001b[0m\n\u001b[0;32m     32\u001b[0m \u001b[39mfrom\u001b[39;00m \u001b[39mibm_s3transfer\u001b[39;00m\u001b[39m.\u001b[39;00m\u001b[39mexceptions\u001b[39;00m \u001b[39mimport\u001b[39;00m FatalError\n\u001b[0;32m     34\u001b[0m \u001b[39mfrom\u001b[39;00m \u001b[39mibm_s3transfer\u001b[39;00m\u001b[39m.\u001b[39;00m\u001b[39maspera\u001b[39;00m\u001b[39m.\u001b[39;00m\u001b[39mexceptions\u001b[39;00m \u001b[39mimport\u001b[39;00m AsperaTransferQueueError\n\u001b[1;32m---> 36\u001b[0m \u001b[39mfrom\u001b[39;00m \u001b[39mibm_s3transfer\u001b[39;00m\u001b[39m.\u001b[39;00m\u001b[39maspera\u001b[39;00m\u001b[39m.\u001b[39;00m\u001b[39mfutures\u001b[39;00m \u001b[39mimport\u001b[39;00m AsperaTransferCoordinator\n\u001b[0;32m     37\u001b[0m \u001b[39mfrom\u001b[39;00m \u001b[39mibm_s3transfer\u001b[39;00m\u001b[39m.\u001b[39;00m\u001b[39maspera\u001b[39;00m\u001b[39m.\u001b[39;00m\u001b[39mfutures\u001b[39;00m \u001b[39mimport\u001b[39;00m AsperaTransferFuture\n\u001b[0;32m     38\u001b[0m \u001b[39mfrom\u001b[39;00m \u001b[39mibm_s3transfer\u001b[39;00m\u001b[39m.\u001b[39;00m\u001b[39maspera\u001b[39;00m\u001b[39m.\u001b[39;00m\u001b[39mfutures\u001b[39;00m \u001b[39mimport\u001b[39;00m enumAsperaDirection\n",
      "File \u001b[1;32mc:\\Users\\Mouli Sankar\\AppData\\Local\\Programs\\Python\\Python310\\lib\\site-packages\\ibm_s3transfer\\aspera\\futures.py:31\u001b[0m\n\u001b[0;32m     29\u001b[0m     faspmanager2\u001b[39m.\u001b[39mconfigureAsperaLocation(os\u001b[39m.\u001b[39mpath\u001b[39m.\u001b[39mdirname(faspmanager2\u001b[39m.\u001b[39m\u001b[39m__file__\u001b[39m))\n\u001b[0;32m     30\u001b[0m \u001b[39mexcept\u001b[39;00m \u001b[39mImportError\u001b[39;00m:\n\u001b[1;32m---> 31\u001b[0m     \u001b[39mraise\u001b[39;00m \u001b[39mImportError\u001b[39;00m(\u001b[39m\"\u001b[39m\u001b[39mAspera SDK not installed\u001b[39m\u001b[39m\"\u001b[39m)\n\u001b[0;32m     33\u001b[0m logger \u001b[39m=\u001b[39m logging\u001b[39m.\u001b[39mgetLogger(\u001b[39m\"\u001b[39m\u001b[39mibmcos.aspera\u001b[39m\u001b[39m\"\u001b[39m)\n\u001b[0;32m     34\u001b[0m logger\u001b[39m.\u001b[39mwarning(\u001b[39m\"\u001b[39m\u001b[39mUsing Aspera through the COS SDK is deprecated. Refer to the project readme: https://github.com/IBM/ibm-cos-sdk-python\u001b[39m\u001b[39m\"\u001b[39m)\n",
      "\u001b[1;31mImportError\u001b[0m: Aspera SDK not installed"
     ]
    }
   ],
   "source": [
    "# import cos_aspera\n",
    "import ibm_boto3\n",
    "from ibm_botocore.client import Config\n",
    "from ibm_s3transfer.aspera.manager import AsperaTransferManager\n",
    "# from ibm_s3transfer.manager import TransferCoordinatorController\n",
    "\n",
    "COS_ENDPOINT = \"https://control.cloud-object-storage.cloud.ibm.com/v2/endpoints\" # Current list avaiable at https://control.cloud-object-storage.cloud.ibm.com/v2/endpoints\n",
    "COS_API_KEY_ID = \"OXFtQiq3DXAYPoAeug9Sy6xKv_6EtnxvV9A1Sw9OF-eT\"\n",
    "COS_RESOURCE_CRN = \"crn:v1:bluemix:public:cloud-object-storage:global:a/aae2d6e4cb8b434781d4640a06b81495:f85d7d56-3a8a-466c-bc6e-a46fafde85fd::\"\n",
    "COS_BUCKET_LOCATION = \"us-south\"\n",
    "\n",
    "# Create resource\n",
    "cos = ibm_boto3.client(\"s3\",\n",
    "    ibm_api_key_id=COS_API_KEY_ID,\n",
    "    ibm_service_instance_id=COS_RESOURCE_CRN,\n",
    "    config=Config(signature_version=\"oauth\"),\n",
    "    endpoint_url=COS_ENDPOINT\n",
    ")\n",
    "\n",
    "transfer_manager = AsperaTransferManager(cos)"
   ]
  }
 ],
 "metadata": {
  "kernelspec": {
   "display_name": "Python 3.10.7 64-bit",
   "language": "python",
   "name": "python3"
  },
  "language_info": {
   "codemirror_mode": {
    "name": "ipython",
    "version": 3
   },
   "file_extension": ".py",
   "mimetype": "text/x-python",
   "name": "python",
   "nbconvert_exporter": "python",
   "pygments_lexer": "ipython3",
   "version": "3.10.7"
  },
  "vscode": {
   "interpreter": {
    "hash": "ceaf83827d1be9cc0e427d4e666810dc81cad41155e59ace46981434c9931b42"
   }
  }
 },
 "nbformat": 4,
 "nbformat_minor": 5
}
